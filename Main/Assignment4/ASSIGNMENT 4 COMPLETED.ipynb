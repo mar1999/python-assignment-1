{
 "cells": [
  {
   "cell_type": "code",
   "execution_count": null,
   "metadata": {},
   "outputs": [],
   "source": [
    "ASSIGNEMT NO 4:"
   ]
  },
  {
   "cell_type": "code",
   "execution_count": 16,
   "metadata": {},
   "outputs": [
    {
     "name": "stdout",
     "output_type": "stream",
     "text": [
      "{'firstname': 'Shahana', 'lastname': 'Taufiq', 'age': 19, 'city': 'Karachi'}\n",
      "{'firstname': 'Shahana', 'lastname': 'Taufiq', 'age': 19, 'city': 'Karachi', 'qualification': 'intermediate'}\n",
      "{'firstname': 'Shahana', 'lastname': 'Taufiq', 'age': 19, 'city': 'Karachi', 'qualification': 'HIGH ACADEMIC'}\n",
      "{'firstname': 'Shahana', 'lastname': 'Taufiq', 'age': 19, 'city': 'Karachi'}\n"
     ]
    }
   ],
   "source": [
    "#QUESTION NO 1\n",
    "DETAILS={\"firstname\": \"Shahana\", \"lastname\": \"Taufiq\" , \"age\":  19 , \"city\":\"Karachi\"}\n",
    "print(DETAILS)\n",
    "DETAILS[\"qualification\"]=\"intermediate\"\n",
    "print(DETAILS)\n",
    "DETAILS[\"qualification\"]=\"HIGH ACADEMIC\"\n",
    "print(DETAILS)\n",
    "del DETAILS[\"qualification\"]\n",
    "print(DETAILS)"
   ]
  },
  {
   "cell_type": "code",
   "execution_count": 23,
   "metadata": {},
   "outputs": [
    {
     "name": "stdout",
     "output_type": "stream",
     "text": [
      "[{'city': 'karachi', 'country': 'pakistan', 'population': 122334, 'fact': 'abc'}, {'city': 'delhi', 'country': 'india', 'population': 898989, 'fact': 'xyz'}, {'city': 'Makkah', 'country': 'saudiaArab', 'population': 7889898, 'fact': 'cityoflights'}]\n"
     ]
    }
   ],
   "source": [
    "#QUESTION NO 2\n",
    "cities=[\n",
    "    {\n",
    "        \"city\":\"karachi\",\n",
    "        \"country\": \"pakistan\",\n",
    "        \"population\":122334,\n",
    "        \"fact\":\"abc\",\n",
    "    },\n",
    "    {\n",
    "        \"city\":\"delhi\",\n",
    "        \"country\":\"india\",\n",
    "        \"population\":898989,\n",
    "        \"fact\":\"xyz\",\n",
    "    },\n",
    "    {\n",
    "        \"city\":\"Makkah\",\n",
    "        \"country\":\"saudiaArab\",\n",
    "        \"population\":7889898,\n",
    "        \"fact\":\"cityoflights\",\n",
    "    },\n",
    "]\n",
    "print(cities)"
   ]
  },
  {
   "cell_type": "code",
   "execution_count": 25,
   "metadata": {},
   "outputs": [
    {
     "name": "stdout",
     "output_type": "stream",
     "text": [
      "How old are you?\n",
      "Enter 'quit' when you are finished. 12\n",
      "  Your ticket is $10.\n",
      "How old are you?\n",
      "Enter 'quit' when you are finished. 5\n",
      "  Your ticket is $10.\n",
      "How old are you?\n",
      "Enter 'quit' when you are finished. 13\n",
      "  Your ticket is $15.\n",
      "How old are you?\n",
      "Enter 'quit' when you are finished. quit\n"
     ]
    }
   ],
   "source": [
    "#QUESTION NO 3\n",
    "prompt = \"How old are you?\"\n",
    "prompt += \"\\nEnter 'quit' when you are finished. \"\n",
    "\n",
    "while True:\n",
    "    age = input(prompt)\n",
    "    if age == 'quit':\n",
    "        break\n",
    "    age = int(age)\n",
    "\n",
    "    if age < 3:\n",
    "        print(\"  You get in free!\")\n",
    "    elif age < 13:\n",
    "        print(\"  Your ticket is $10.\")\n",
    "    else:\n",
    "        print(\"  Your ticket is $15.\")"
   ]
  },
  {
   "cell_type": "code",
   "execution_count": null,
   "metadata": {},
   "outputs": [],
   "source": [
    "#QUESTION NO 4\n",
    "import random\n",
    "\n",
    "def numberGuess():\n",
    "     printNow(\"I'm thinking of a number between 1 and 30\")\n",
    "guess = 0 # give guess a starting value\n",
    "randNum = random.randrange(1,29) # this line generates a random number\n",
    "guess = int(input(\"Try to guess the number:\")) # ask user for a number\n",
    "print (randNum) \n",
    "while guess != randNum:\n",
    "     if(guess == randNum):\n",
    "        print (\"You got it!\")\n",
    "        if(guess > randNum): \n",
    "                print (\"Wrong! You guessed too high\")\n",
    "                if (guess < randNum):\n",
    "                    print (\"Wrong! You guessed too low\")\n",
    "                "
   ]
  },
  {
   "cell_type": "code",
   "execution_count": null,
   "metadata": {},
   "outputs": [],
   "source": []
  },
  {
   "cell_type": "code",
   "execution_count": null,
   "metadata": {},
   "outputs": [],
   "source": []
  }
 ],
 "metadata": {
  "kernelspec": {
   "display_name": "Python 3",
   "language": "python",
   "name": "python3"
  },
  "language_info": {
   "codemirror_mode": {
    "name": "ipython",
    "version": 3
   },
   "file_extension": ".py",
   "mimetype": "text/x-python",
   "name": "python",
   "nbconvert_exporter": "python",
   "pygments_lexer": "ipython3",
   "version": "3.7.3"
  }
 },
 "nbformat": 4,
 "nbformat_minor": 2
}
