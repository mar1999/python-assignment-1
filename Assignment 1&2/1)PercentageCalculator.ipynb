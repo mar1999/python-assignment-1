{
 "cells": [
  {
   "cell_type": "code",
   "execution_count": 6,
   "metadata": {},
   "outputs": [
    {
     "name": "stdout",
     "output_type": "stream",
     "text": [
      "enter marks90\n",
      "enter marks85\n",
      "enter marks95\n",
      "enter marks75\n",
      "enter marks88\n",
      "86.6\n"
     ]
    }
   ],
   "source": [
    "arr1=[]\n",
    "for marks in range(5) :\n",
    "    arr1.insert(marks,int(input(\"enter marks\")))\n",
    "total_sum=0\n",
    "for sum in range(5) :\n",
    "    total_sum=total_sum + arr1[sum]\n",
    "per=total_sum*100/500\n",
    "print(per)"
   ]
  },
  {
   "cell_type": "code",
   "execution_count": null,
   "metadata": {},
   "outputs": [],
   "source": []
  }
 ],
 "metadata": {
  "kernelspec": {
   "display_name": "Python 3",
   "language": "python",
   "name": "python3"
  },
  "language_info": {
   "codemirror_mode": {
    "name": "ipython",
    "version": 3
   },
   "file_extension": ".py",
   "mimetype": "text/x-python",
   "name": "python",
   "nbconvert_exporter": "python",
   "pygments_lexer": "ipython3",
   "version": "3.7.3"
  }
 },
 "nbformat": 4,
 "nbformat_minor": 2
}
