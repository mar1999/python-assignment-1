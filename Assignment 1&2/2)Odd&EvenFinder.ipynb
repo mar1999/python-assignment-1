{
 "cells": [
  {
   "cell_type": "code",
   "execution_count": 8,
   "metadata": {},
   "outputs": [
    {
     "name": "stdout",
     "output_type": "stream",
     "text": [
      "ENTER ANY VALUE: 6\n",
      "EVEN NUMBER\n"
     ]
    }
   ],
   "source": [
    "num=int(input(\"ENTER ANY VALUE: \"))\n",
    "check=num%2\n",
    "if check==0:\n",
    "    print(\"EVEN NUMBER\")\n",
    "elif check==1:\n",
    "    print(\"ODD NUMBER\")\n"
   ]
  },
  {
   "cell_type": "code",
   "execution_count": null,
   "metadata": {},
   "outputs": [],
   "source": []
  },
  {
   "cell_type": "code",
   "execution_count": null,
   "metadata": {},
   "outputs": [],
   "source": []
  }
 ],
 "metadata": {
  "kernelspec": {
   "display_name": "Python 3",
   "language": "python",
   "name": "python3"
  },
  "language_info": {
   "codemirror_mode": {
    "name": "ipython",
    "version": 3
   },
   "file_extension": ".py",
   "mimetype": "text/x-python",
   "name": "python",
   "nbconvert_exporter": "python",
   "pygments_lexer": "ipython3",
   "version": "3.7.3"
  }
 },
 "nbformat": 4,
 "nbformat_minor": 2
}
